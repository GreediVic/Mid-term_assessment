{
 "cells": [
  {
   "cell_type": "code",
   "execution_count": 2,
   "metadata": {},
   "outputs": [],
   "source": [
    "import pandas as pd\n",
    "import numpy as np\n",
    "import matplotlib.pyplot as plt\n",
    "from IPython.core.interactiveshell import InteractiveShell\n",
    "InteractiveShell.ast_node_interactivity = \"all\"\n",
    "\n",
    "%matplotlib inline"
   ]
  },
  {
   "cell_type": "code",
   "execution_count": 3,
   "metadata": {},
   "outputs": [
    {
     "data": {
      "text/plain": [
       "'\\n使用了填充了年龄的数据\\n'"
      ]
     },
     "execution_count": 3,
     "metadata": {},
     "output_type": "execute_result"
    }
   ],
   "source": [
    "\"\"\"\n",
    "使用了填充了年龄的数据\n",
    "\"\"\"\n",
    "ini_data = pd.read_csv(\"waitfor_FE_filledage.csv\")"
   ]
  },
  {
   "cell_type": "code",
   "execution_count": 4,
   "metadata": {},
   "outputs": [
    {
     "data": {
      "text/plain": [
       "'\\n    导入包后将数据集调出\\n    并且查看基本信息\\n'"
      ]
     },
     "execution_count": 4,
     "metadata": {},
     "output_type": "execute_result"
    },
    {
     "data": {
      "text/html": [
       "<div>\n",
       "<style scoped>\n",
       "    .dataframe tbody tr th:only-of-type {\n",
       "        vertical-align: middle;\n",
       "    }\n",
       "\n",
       "    .dataframe tbody tr th {\n",
       "        vertical-align: top;\n",
       "    }\n",
       "\n",
       "    .dataframe thead th {\n",
       "        text-align: right;\n",
       "    }\n",
       "</style>\n",
       "<table border=\"1\" class=\"dataframe\">\n",
       "  <thead>\n",
       "    <tr style=\"text-align: right;\">\n",
       "      <th></th>\n",
       "      <th>Unnamed: 0</th>\n",
       "      <th>program_duration</th>\n",
       "      <th>test_id</th>\n",
       "      <th>test_type</th>\n",
       "      <th>difficulty_level</th>\n",
       "      <th>trainee_id</th>\n",
       "      <th>gender</th>\n",
       "      <th>education</th>\n",
       "      <th>city_tier</th>\n",
       "      <th>age</th>\n",
       "      <th>total_programs_enrolled</th>\n",
       "      <th>is_handicapped</th>\n",
       "      <th>trainee_engagement_rating</th>\n",
       "      <th>is_pass</th>\n",
       "    </tr>\n",
       "  </thead>\n",
       "  <tbody>\n",
       "    <tr>\n",
       "      <th>count</th>\n",
       "      <td>47873.000000</td>\n",
       "      <td>47873.000000</td>\n",
       "      <td>47873.000000</td>\n",
       "      <td>47873.000000</td>\n",
       "      <td>47873.000000</td>\n",
       "      <td>47873.000000</td>\n",
       "      <td>47873.000000</td>\n",
       "      <td>47873.000000</td>\n",
       "      <td>47873.000000</td>\n",
       "      <td>47873.000000</td>\n",
       "      <td>47873.000000</td>\n",
       "      <td>47873.000000</td>\n",
       "      <td>47873.000000</td>\n",
       "      <td>47873.000000</td>\n",
       "    </tr>\n",
       "    <tr>\n",
       "      <th>mean</th>\n",
       "      <td>25019.362355</td>\n",
       "      <td>128.228751</td>\n",
       "      <td>91.447705</td>\n",
       "      <td>0.402523</td>\n",
       "      <td>0.651578</td>\n",
       "      <td>9864.746412</td>\n",
       "      <td>0.466860</td>\n",
       "      <td>1.680049</td>\n",
       "      <td>2.248428</td>\n",
       "      <td>36.415480</td>\n",
       "      <td>2.573121</td>\n",
       "      <td>0.908654</td>\n",
       "      <td>2.397865</td>\n",
       "      <td>0.697074</td>\n",
       "    </tr>\n",
       "    <tr>\n",
       "      <th>std</th>\n",
       "      <td>14434.286794</td>\n",
       "      <td>6.890751</td>\n",
       "      <td>51.306476</td>\n",
       "      <td>0.490411</td>\n",
       "      <td>0.823980</td>\n",
       "      <td>5719.123707</td>\n",
       "      <td>0.498906</td>\n",
       "      <td>0.765060</td>\n",
       "      <td>1.010395</td>\n",
       "      <td>7.218794</td>\n",
       "      <td>1.230516</td>\n",
       "      <td>0.288103</td>\n",
       "      <td>1.325769</td>\n",
       "      <td>0.459529</td>\n",
       "    </tr>\n",
       "    <tr>\n",
       "      <th>min</th>\n",
       "      <td>0.000000</td>\n",
       "      <td>117.000000</td>\n",
       "      <td>0.000000</td>\n",
       "      <td>0.000000</td>\n",
       "      <td>0.000000</td>\n",
       "      <td>1.000000</td>\n",
       "      <td>0.000000</td>\n",
       "      <td>0.000000</td>\n",
       "      <td>1.000000</td>\n",
       "      <td>17.000000</td>\n",
       "      <td>1.000000</td>\n",
       "      <td>0.000000</td>\n",
       "      <td>1.000000</td>\n",
       "      <td>0.000000</td>\n",
       "    </tr>\n",
       "    <tr>\n",
       "      <th>25%</th>\n",
       "      <td>12544.000000</td>\n",
       "      <td>121.000000</td>\n",
       "      <td>45.000000</td>\n",
       "      <td>0.000000</td>\n",
       "      <td>0.000000</td>\n",
       "      <td>5048.000000</td>\n",
       "      <td>0.000000</td>\n",
       "      <td>1.000000</td>\n",
       "      <td>1.000000</td>\n",
       "      <td>31.000000</td>\n",
       "      <td>2.000000</td>\n",
       "      <td>1.000000</td>\n",
       "      <td>1.000000</td>\n",
       "      <td>0.000000</td>\n",
       "    </tr>\n",
       "    <tr>\n",
       "      <th>50%</th>\n",
       "      <td>25018.000000</td>\n",
       "      <td>131.000000</td>\n",
       "      <td>91.000000</td>\n",
       "      <td>0.000000</td>\n",
       "      <td>0.000000</td>\n",
       "      <td>9671.000000</td>\n",
       "      <td>0.000000</td>\n",
       "      <td>2.000000</td>\n",
       "      <td>2.000000</td>\n",
       "      <td>36.246315</td>\n",
       "      <td>2.000000</td>\n",
       "      <td>1.000000</td>\n",
       "      <td>2.000000</td>\n",
       "      <td>1.000000</td>\n",
       "    </tr>\n",
       "    <tr>\n",
       "      <th>75%</th>\n",
       "      <td>37527.000000</td>\n",
       "      <td>134.000000</td>\n",
       "      <td>135.000000</td>\n",
       "      <td>1.000000</td>\n",
       "      <td>1.000000</td>\n",
       "      <td>14622.000000</td>\n",
       "      <td>1.000000</td>\n",
       "      <td>2.000000</td>\n",
       "      <td>3.000000</td>\n",
       "      <td>43.000000</td>\n",
       "      <td>3.000000</td>\n",
       "      <td>1.000000</td>\n",
       "      <td>4.000000</td>\n",
       "      <td>1.000000</td>\n",
       "    </tr>\n",
       "    <tr>\n",
       "      <th>max</th>\n",
       "      <td>49997.000000</td>\n",
       "      <td>136.000000</td>\n",
       "      <td>187.000000</td>\n",
       "      <td>1.000000</td>\n",
       "      <td>3.000000</td>\n",
       "      <td>20097.000000</td>\n",
       "      <td>1.000000</td>\n",
       "      <td>4.000000</td>\n",
       "      <td>4.000000</td>\n",
       "      <td>63.000000</td>\n",
       "      <td>14.000000</td>\n",
       "      <td>1.000000</td>\n",
       "      <td>5.000000</td>\n",
       "      <td>1.000000</td>\n",
       "    </tr>\n",
       "  </tbody>\n",
       "</table>\n",
       "</div>"
      ],
      "text/plain": [
       "         Unnamed: 0  program_duration       test_id     test_type  \\\n",
       "count  47873.000000      47873.000000  47873.000000  47873.000000   \n",
       "mean   25019.362355        128.228751     91.447705      0.402523   \n",
       "std    14434.286794          6.890751     51.306476      0.490411   \n",
       "min        0.000000        117.000000      0.000000      0.000000   \n",
       "25%    12544.000000        121.000000     45.000000      0.000000   \n",
       "50%    25018.000000        131.000000     91.000000      0.000000   \n",
       "75%    37527.000000        134.000000    135.000000      1.000000   \n",
       "max    49997.000000        136.000000    187.000000      1.000000   \n",
       "\n",
       "       difficulty_level    trainee_id        gender     education  \\\n",
       "count      47873.000000  47873.000000  47873.000000  47873.000000   \n",
       "mean           0.651578   9864.746412      0.466860      1.680049   \n",
       "std            0.823980   5719.123707      0.498906      0.765060   \n",
       "min            0.000000      1.000000      0.000000      0.000000   \n",
       "25%            0.000000   5048.000000      0.000000      1.000000   \n",
       "50%            0.000000   9671.000000      0.000000      2.000000   \n",
       "75%            1.000000  14622.000000      1.000000      2.000000   \n",
       "max            3.000000  20097.000000      1.000000      4.000000   \n",
       "\n",
       "          city_tier           age  total_programs_enrolled  is_handicapped  \\\n",
       "count  47873.000000  47873.000000             47873.000000    47873.000000   \n",
       "mean       2.248428     36.415480                 2.573121        0.908654   \n",
       "std        1.010395      7.218794                 1.230516        0.288103   \n",
       "min        1.000000     17.000000                 1.000000        0.000000   \n",
       "25%        1.000000     31.000000                 2.000000        1.000000   \n",
       "50%        2.000000     36.246315                 2.000000        1.000000   \n",
       "75%        3.000000     43.000000                 3.000000        1.000000   \n",
       "max        4.000000     63.000000                14.000000        1.000000   \n",
       "\n",
       "       trainee_engagement_rating       is_pass  \n",
       "count               47873.000000  47873.000000  \n",
       "mean                    2.397865      0.697074  \n",
       "std                     1.325769      0.459529  \n",
       "min                     1.000000      0.000000  \n",
       "25%                     1.000000      0.000000  \n",
       "50%                     2.000000      1.000000  \n",
       "75%                     4.000000      1.000000  \n",
       "max                     5.000000      1.000000  "
      ]
     },
     "execution_count": 4,
     "metadata": {},
     "output_type": "execute_result"
    },
    {
     "name": "stdout",
     "output_type": "stream",
     "text": [
      "<class 'pandas.core.frame.DataFrame'>\n",
      "Int64Index: 47873 entries, 0 to 49997\n",
      "Data columns (total 17 columns):\n",
      " #   Column                     Non-Null Count  Dtype  \n",
      "---  ------                     --------------  -----  \n",
      " 0   Unnamed: 0                 47873 non-null  int64  \n",
      " 1   id_num                     47873 non-null  object \n",
      " 2   program_type               47873 non-null  object \n",
      " 3   program_id                 47873 non-null  object \n",
      " 4   program_duration           47873 non-null  float64\n",
      " 5   test_id                    47873 non-null  float64\n",
      " 6   test_type                  47873 non-null  int64  \n",
      " 7   difficulty_level           47873 non-null  int64  \n",
      " 8   trainee_id                 47873 non-null  float64\n",
      " 9   gender                     47873 non-null  int64  \n",
      " 10  education                  47873 non-null  int64  \n",
      " 11  city_tier                  47873 non-null  float64\n",
      " 12  age                        47873 non-null  float64\n",
      " 13  total_programs_enrolled    47873 non-null  float64\n",
      " 14  is_handicapped             47873 non-null  int64  \n",
      " 15  trainee_engagement_rating  47873 non-null  float64\n",
      " 16  is_pass                    47873 non-null  int64  \n",
      "dtypes: float64(7), int64(7), object(3)\n",
      "memory usage: 6.6+ MB\n"
     ]
    }
   ],
   "source": [
    "\"\"\"\n",
    "    导入包后将数据集调出\n",
    "    并且查看基本信息\n",
    "\"\"\"\n",
    "ini_data = ini_data.dropna()\n",
    "ini_data.describe()\n",
    "ini_data.info()"
   ]
  },
  {
   "cell_type": "code",
   "execution_count": 5,
   "metadata": {},
   "outputs": [
    {
     "data": {
      "text/plain": [
       "0        0\n",
       "1        1\n",
       "2        0\n",
       "3        1\n",
       "4        1\n",
       "        ..\n",
       "49993    1\n",
       "49994    1\n",
       "49995    1\n",
       "49996    0\n",
       "49997    0\n",
       "Name: gender, Length: 47873, dtype: int64"
      ]
     },
     "execution_count": 5,
     "metadata": {},
     "output_type": "execute_result"
    },
    {
     "data": {
      "text/plain": [
       "0        2\n",
       "1        1\n",
       "2        2\n",
       "3        2\n",
       "4        1\n",
       "        ..\n",
       "49993    1\n",
       "49994    1\n",
       "49995    1\n",
       "49996    2\n",
       "49997    2\n",
       "Name: education, Length: 47873, dtype: int64"
      ]
     },
     "execution_count": 5,
     "metadata": {},
     "output_type": "execute_result"
    },
    {
     "data": {
      "text/plain": [
       "0        0\n",
       "1        0\n",
       "2        1\n",
       "3        0\n",
       "4        0\n",
       "        ..\n",
       "49993    0\n",
       "49994    0\n",
       "49995    1\n",
       "49996    0\n",
       "49997    0\n",
       "Name: test_type, Length: 47873, dtype: int64"
      ]
     },
     "execution_count": 5,
     "metadata": {},
     "output_type": "execute_result"
    },
    {
     "data": {
      "text/plain": [
       "0        1\n",
       "1        0\n",
       "2        0\n",
       "3        0\n",
       "4        1\n",
       "        ..\n",
       "49993    2\n",
       "49994    1\n",
       "49995    0\n",
       "49996    1\n",
       "49997    2\n",
       "Name: difficulty_level, Length: 47873, dtype: int64"
      ]
     },
     "execution_count": 5,
     "metadata": {},
     "output_type": "execute_result"
    },
    {
     "data": {
      "text/plain": [
       "0    26154\n",
       "1    13588\n",
       "2     6788\n",
       "3     1343\n",
       "Name: difficulty_level, dtype: int64"
      ]
     },
     "execution_count": 5,
     "metadata": {},
     "output_type": "execute_result"
    },
    {
     "name": "stdout",
     "output_type": "stream",
     "text": [
      "<class 'pandas.core.frame.DataFrame'>\n",
      "Int64Index: 47873 entries, 0 to 49997\n",
      "Data columns (total 17 columns):\n",
      " #   Column                     Non-Null Count  Dtype  \n",
      "---  ------                     --------------  -----  \n",
      " 0   Unnamed: 0                 47873 non-null  int64  \n",
      " 1   id_num                     47873 non-null  object \n",
      " 2   program_type               47873 non-null  object \n",
      " 3   program_id                 47873 non-null  object \n",
      " 4   program_duration           47873 non-null  float64\n",
      " 5   test_id                    47873 non-null  float64\n",
      " 6   test_type                  47873 non-null  int64  \n",
      " 7   difficulty_level           47873 non-null  int64  \n",
      " 8   trainee_id                 47873 non-null  float64\n",
      " 9   gender                     47873 non-null  int64  \n",
      " 10  education                  47873 non-null  int64  \n",
      " 11  city_tier                  47873 non-null  float64\n",
      " 12  age                        47873 non-null  float64\n",
      " 13  total_programs_enrolled    47873 non-null  float64\n",
      " 14  is_handicapped             47873 non-null  int64  \n",
      " 15  trainee_engagement_rating  47873 non-null  float64\n",
      " 16  is_pass                    47873 non-null  int64  \n",
      "dtypes: float64(7), int64(7), object(3)\n",
      "memory usage: 6.6+ MB\n"
     ]
    },
    {
     "data": {
      "text/plain": [
       "0        1\n",
       "1        1\n",
       "2        1\n",
       "3        1\n",
       "4        1\n",
       "        ..\n",
       "49993    1\n",
       "49994    1\n",
       "49995    1\n",
       "49996    1\n",
       "49997    1\n",
       "Name: is_handicapped, Length: 47873, dtype: int64"
      ]
     },
     "execution_count": 5,
     "metadata": {},
     "output_type": "execute_result"
    },
    {
     "data": {
      "text/plain": [
       "0        6\n",
       "1        1\n",
       "2        7\n",
       "3        1\n",
       "4        3\n",
       "        ..\n",
       "49993    6\n",
       "49994    2\n",
       "49995    1\n",
       "49996    6\n",
       "49997    5\n",
       "Name: program_type, Length: 47873, dtype: object"
      ]
     },
     "execution_count": 5,
     "metadata": {},
     "output_type": "execute_result"
    }
   ],
   "source": [
    "### 对gender\n",
    "\n",
    "ini_data.loc[ini_data['gender'] == 'M', \"gender\"] = 0\n",
    "ini_data.loc[ini_data['gender'] == 'F', \"gender\"] = 1\n",
    "ini_data['gender']\n",
    "\n",
    "### 对学历进行编码（有等级）\n",
    "ini_data.loc[ini_data['education'] == 'No Qualification', \"education\"] = 0\n",
    "ini_data.loc[ini_data['education'] == 'High School Diploma', \"education\"] = 1\n",
    "ini_data.loc[ini_data['education'] == 'Matriculation', \"education\"] = 2\n",
    "ini_data.loc[ini_data['education'] == 'Bachelors', \"education\"] = 3\n",
    "ini_data.loc[ini_data['education'] == 'Masters', \"education\"] = 4\n",
    "ini_data['education']\n",
    "\n",
    "### 对测试类型编码\n",
    "ini_data.loc[ini_data['test_type'] == 'offline', \"test_type\"] = 0\n",
    "ini_data.loc[ini_data['test_type'] == 'online', \"test_type\"] = 1\n",
    "ini_data['test_type']\n",
    "\n",
    "### 对难度级别进行编码\n",
    "ini_data.loc[ini_data['difficulty_level'] == 'easy', \"difficulty_level\"] = 0\n",
    "ini_data.loc[ini_data['difficulty_level'] == 'intermediate', \"difficulty_level\"] = 1\n",
    "ini_data.loc[ini_data['difficulty_level'] == 'hard', \"difficulty_level\"] = 2\n",
    "ini_data.loc[ini_data['difficulty_level'] == 'vary hard', \"difficulty_level\"] = 3\n",
    "ini_data['difficulty_level']\n",
    "\n",
    "ini_data['difficulty_level'].value_counts()\n",
    "ini_data.info()\n",
    "\n",
    "### 对是否残疾编码\n",
    "\n",
    "ini_data.loc[ini_data['is_handicapped'] == 'N', \"is_handicapped\"] = 1\n",
    "ini_data.loc[ini_data['is_handicapped'] == 'Y', \"is_handicapped\"] = 0\n",
    "ini_data['is_handicapped']\n",
    "\n",
    "### 对程序类型编码\n",
    "ini_data.loc[ini_data['program_type'] == 'S', \"program_type\"] = 0\n",
    "ini_data.loc[ini_data['program_type'] == 'T', \"program_type\"] = 1\n",
    "ini_data.loc[ini_data['program_type'] == 'U', \"program_type\"] = 2\n",
    "ini_data.loc[ini_data['program_type'] == 'V', \"program_type\"] = 3\n",
    "ini_data.loc[ini_data['program_type'] == 'W', \"program_type\"] = 4\n",
    "ini_data.loc[ini_data['program_type'] == 'X', \"program_type\"] = 5\n",
    "ini_data.loc[ini_data['program_type'] == 'Y', \"program_type\"] = 6\n",
    "ini_data.loc[ini_data['program_type'] == 'Z', \"program_type\"] = 7\n",
    "\n",
    "ini_data['program_type']\n"
   ]
  },
  {
   "cell_type": "code",
   "execution_count": 23,
   "metadata": {},
   "outputs": [
    {
     "data": {
      "text/plain": [
       "SelectKBest()"
      ]
     },
     "execution_count": 23,
     "metadata": {},
     "output_type": "execute_result"
    },
    {
     "name": "stderr",
     "output_type": "stream",
     "text": [
      "<ipython-input-23-6b9f4e71fb49>:11: RuntimeWarning: divide by zero encountered in log10\n",
      "  scores = -np.log10(selector.pvalues_)\n"
     ]
    },
    {
     "data": {
      "text/plain": [
       "<BarContainer object of 14 artists>"
      ]
     },
     "execution_count": 23,
     "metadata": {},
     "output_type": "execute_result"
    },
    {
     "data": {
      "text/plain": [
       "([<matplotlib.axis.XTick at 0x2026141b8e0>,\n",
       "  <matplotlib.axis.XTick at 0x2026141b8b0>,\n",
       "  <matplotlib.axis.XTick at 0x20261403430>,\n",
       "  <matplotlib.axis.XTick at 0x202615ec9a0>,\n",
       "  <matplotlib.axis.XTick at 0x202615ecee0>,\n",
       "  <matplotlib.axis.XTick at 0x202616d4430>,\n",
       "  <matplotlib.axis.XTick at 0x202616d4940>,\n",
       "  <matplotlib.axis.XTick at 0x202616d4e50>,\n",
       "  <matplotlib.axis.XTick at 0x202616d23a0>,\n",
       "  <matplotlib.axis.XTick at 0x202616d28b0>,\n",
       "  <matplotlib.axis.XTick at 0x202616d4130>,\n",
       "  <matplotlib.axis.XTick at 0x202616d2970>,\n",
       "  <matplotlib.axis.XTick at 0x202616d2c70>,\n",
       "  <matplotlib.axis.XTick at 0x202616da1c0>],\n",
       " [Text(0, 0, 'id_num'),\n",
       "  Text(1, 0, 'difficulty_level'),\n",
       "  Text(2, 0, 'gender'),\n",
       "  Text(3, 0, 'education'),\n",
       "  Text(4, 0, 'city_tier'),\n",
       "  Text(5, 0, 'age'),\n",
       "  Text(6, 0, 'test_type'),\n",
       "  Text(7, 0, 'total_programs_enrolled'),\n",
       "  Text(8, 0, 'program_type'),\n",
       "  Text(9, 0, 'is_handicapped'),\n",
       "  Text(10, 0, 'program_duration'),\n",
       "  Text(11, 0, 'trainee_id'),\n",
       "  Text(12, 0, 'test_id'),\n",
       "  Text(13, 0, 'trainee_engagement_rating')])"
      ]
     },
     "execution_count": 23,
     "metadata": {},
     "output_type": "execute_result"
    },
    {
     "data": {
      "image/png": "[encoded data removed]",
      "text/plain": [
       "<Figure size 432x288 with 1 Axes>"
      ]
     },
     "metadata": {
      "needs_background": "light"
     },
     "output_type": "display_data"
    }
   ],
   "source": [
    "from sklearn.feature_selection import SelectKBest\n",
    "# f_classif：基于方差分析检验，统计f值\n",
    "import matplotlib.pyplot as plt  # 分析特征权重\n",
    "# 放入特征\n",
    "train_features = [ \"id_num\",\"difficulty_level\", \"gender\", \"education\", \"city_tier\", \"age\",\n",
    "                 \"test_type\",\"total_programs_enrolled\",\"program_type\",\"is_handicapped\",\n",
    "                  \"program_duration\",\"trainee_id\",\"test_id\",\"trainee_engagement_rating\"] \n",
    "selector = SelectKBest(f_classif)\n",
    "selector.fit(ini_data[train_features], ini_data[\"is_pass\"])\n",
    "# p值小的特征比较显著，要体现显著特征的会选用负对数得到较大的分数\n",
    "scores = -np.log10(selector.pvalues_)\n",
    "\n",
    "# 画柱状图\n",
    "plt.bar(range(len(train_features)), scores)\n",
    "# 画刻度\n",
    "plt.xticks(range(len(train_features)), train_features, rotation='vertical')\n",
    "plt.show()"
   ]
  },
  {
   "cell_type": "code",
   "execution_count": 37,
   "metadata": {
    "scrolled": true
   },
   "outputs": [
    {
     "data": {
      "text/plain": [
       "0        0\n",
       "1        1\n",
       "2        0\n",
       "3        1\n",
       "4        1\n",
       "        ..\n",
       "49993    1\n",
       "49994    1\n",
       "49995    1\n",
       "49996    0\n",
       "49997    0\n",
       "Name: gender, Length: 47873, dtype: int64"
      ]
     },
     "execution_count": 37,
     "metadata": {},
     "output_type": "execute_result"
    },
    {
     "data": {
      "text/plain": [
       "0        2\n",
       "1        1\n",
       "2        2\n",
       "3        2\n",
       "4        1\n",
       "        ..\n",
       "49993    1\n",
       "49994    1\n",
       "49995    1\n",
       "49996    2\n",
       "49997    2\n",
       "Name: education, Length: 47873, dtype: int64"
      ]
     },
     "execution_count": 37,
     "metadata": {},
     "output_type": "execute_result"
    },
    {
     "data": {
      "text/plain": [
       "0        5.0\n",
       "1        2.0\n",
       "2        1.0\n",
       "3        4.0\n",
       "4        2.0\n",
       "        ... \n",
       "49993    5.0\n",
       "49994    2.0\n",
       "49995    2.0\n",
       "49996    2.0\n",
       "49997    5.0\n",
       "Name: total_programs_enrolled, Length: 47873, dtype: float64"
      ]
     },
     "execution_count": 37,
     "metadata": {},
     "output_type": "execute_result"
    },
    {
     "data": {
      "text/plain": [
       "0        1\n",
       "1        1\n",
       "2        1\n",
       "3        1\n",
       "4        1\n",
       "        ..\n",
       "49993    1\n",
       "49994    1\n",
       "49995    1\n",
       "49996    1\n",
       "49997    1\n",
       "Name: is_handicapped, Length: 47873, dtype: int64"
      ]
     },
     "execution_count": 37,
     "metadata": {},
     "output_type": "execute_result"
    },
    {
     "data": {
      "text/plain": [
       "0        136.0\n",
       "1        131.0\n",
       "2        120.0\n",
       "3        117.0\n",
       "4        131.0\n",
       "         ...  \n",
       "49993    121.0\n",
       "49994    117.0\n",
       "49995    117.0\n",
       "49996    121.0\n",
       "49997    134.0\n",
       "Name: program_duration, Length: 47873, dtype: float64"
      ]
     },
     "execution_count": 37,
     "metadata": {},
     "output_type": "execute_result"
    },
    {
     "data": {
      "text/plain": [
       "0         9389.0\n",
       "1        16523.0\n",
       "2        13987.0\n",
       "3        13158.0\n",
       "4        10591.0\n",
       "          ...   \n",
       "49993     4379.0\n",
       "49994     3809.0\n",
       "49995    18109.0\n",
       "49996     6384.0\n",
       "49997    18598.0\n",
       "Name: trainee_id, Length: 47873, dtype: float64"
      ]
     },
     "execution_count": 37,
     "metadata": {},
     "output_type": "execute_result"
    },
    {
     "data": {
      "text/plain": [
       "0        1.0\n",
       "1        3.0\n",
       "2        2.0\n",
       "3        1.0\n",
       "4        4.0\n",
       "        ... \n",
       "49993    4.0\n",
       "49994    3.0\n",
       "49995    1.0\n",
       "49996    5.0\n",
       "49997    5.0\n",
       "Name: trainee_engagement_rating, Length: 47873, dtype: float64"
      ]
     },
     "execution_count": 37,
     "metadata": {},
     "output_type": "execute_result"
    }
   ],
   "source": [
    "# 清除不要的数据\n",
    "ini_data.pop('gender')\n",
    "ini_data.pop('education')\n",
    "ini_data.pop('total_programs_enrolled')\n",
    "ini_data.pop('is_handicapped')\n",
    "ini_data.pop('program_duration')\n",
    "ini_data.pop('trainee_id')\n",
    "ini_data.pop('trainee_engagement_rating')\n"
   ]
  },
  {
   "cell_type": "code",
   "execution_count": 25,
   "metadata": {},
   "outputs": [
    {
     "data": {
      "text/plain": [
       "SelectKBest(score_func=<function chi2 at 0x000002025D3A35E0>)"
      ]
     },
     "execution_count": 25,
     "metadata": {},
     "output_type": "execute_result"
    },
    {
     "name": "stderr",
     "output_type": "stream",
     "text": [
      "<ipython-input-25-ff436f971d6d>:4: RuntimeWarning: divide by zero encountered in log10\n",
      "  scores = -np.log10(selector.pvalues_)\n"
     ]
    },
    {
     "data": {
      "text/plain": [
       "<BarContainer object of 14 artists>"
      ]
     },
     "execution_count": 25,
     "metadata": {},
     "output_type": "execute_result"
    },
    {
     "data": {
      "text/plain": [
       "([<matplotlib.axis.XTick at 0x2025e017ac0>,\n",
       "  <matplotlib.axis.XTick at 0x2025e017a90>,\n",
       "  <matplotlib.axis.XTick at 0x2025e036610>,\n",
       "  <matplotlib.axis.XTick at 0x2026176acd0>,\n",
       "  <matplotlib.axis.XTick at 0x20261770220>,\n",
       "  <matplotlib.axis.XTick at 0x20261770730>,\n",
       "  <matplotlib.axis.XTick at 0x20261770c40>,\n",
       "  <matplotlib.axis.XTick at 0x20261774190>,\n",
       "  <matplotlib.axis.XTick at 0x202617746a0>,\n",
       "  <matplotlib.axis.XTick at 0x20261774bb0>,\n",
       "  <matplotlib.axis.XTick at 0x202617703a0>,\n",
       "  <matplotlib.axis.XTick at 0x202617748e0>,\n",
       "  <matplotlib.axis.XTick at 0x20261774f10>,\n",
       "  <matplotlib.axis.XTick at 0x20261779460>],\n",
       " [Text(0, 0, 'id_num'),\n",
       "  Text(1, 0, 'difficulty_level'),\n",
       "  Text(2, 0, 'gender'),\n",
       "  Text(3, 0, 'education'),\n",
       "  Text(4, 0, 'city_tier'),\n",
       "  Text(5, 0, 'age'),\n",
       "  Text(6, 0, 'test_type'),\n",
       "  Text(7, 0, 'total_programs_enrolled'),\n",
       "  Text(8, 0, 'program_type'),\n",
       "  Text(9, 0, 'is_handicapped'),\n",
       "  Text(10, 0, 'program_duration'),\n",
       "  Text(11, 0, 'trainee_id'),\n",
       "  Text(12, 0, 'test_id'),\n",
       "  Text(13, 0, 'trainee_engagement_rating')])"
      ]
     },
     "execution_count": 25,
     "metadata": {},
     "output_type": "execute_result"
    },
    {
     "data": {
      "image/png": "[encoded data removed]",
      "text/plain": [
       "<Figure size 432x288 with 1 Axes>"
      ]
     },
     "metadata": {
      "needs_background": "light"
     },
     "output_type": "display_data"
    }
   ],
   "source": [
    "# 卡方检验\n",
    "# selector = SelectKBest(chi2)\n",
    "# selector.fit(ini_data[train_features], ini_data[\"is_pass\"])\n",
    "# scores = -np.log10(selector.pvalues_)\n",
    "\n",
    "# # 画柱状图\n",
    "# plt.bar(range(len(train_features)), scores)\n",
    "# # 画刻度\n",
    "# plt.xticks(range(len(train_features)), train_features, rotation='vertical')\n",
    "# plt.show()\n",
    "\"\"\"\n",
    "emm，为啥这不一样。。好奇怪T_T\n",
    "\"\"\""
   ]
  },
  {
   "cell_type": "code",
   "execution_count": 23,
   "metadata": {},
   "outputs": [
    {
     "data": {
      "text/html": [
       "<div>\n",
       "<style scoped>\n",
       "    .dataframe tbody tr th:only-of-type {\n",
       "        vertical-align: middle;\n",
       "    }\n",
       "\n",
       "    .dataframe tbody tr th {\n",
       "        vertical-align: top;\n",
       "    }\n",
       "\n",
       "    .dataframe thead th {\n",
       "        text-align: right;\n",
       "    }\n",
       "</style>\n",
       "<table border=\"1\" class=\"dataframe\">\n",
       "  <thead>\n",
       "    <tr style=\"text-align: right;\">\n",
       "      <th></th>\n",
       "      <th>Unnamed: 0</th>\n",
       "      <th>id_num</th>\n",
       "      <th>program_type</th>\n",
       "      <th>program_id</th>\n",
       "      <th>test_id</th>\n",
       "      <th>test_type</th>\n",
       "      <th>difficulty_level</th>\n",
       "      <th>city_tier</th>\n",
       "      <th>age</th>\n",
       "      <th>is_pass</th>\n",
       "    </tr>\n",
       "  </thead>\n",
       "  <tbody>\n",
       "    <tr>\n",
       "      <th>0</th>\n",
       "      <td>0</td>\n",
       "      <td>9389_150</td>\n",
       "      <td>6</td>\n",
       "      <td>Y_1</td>\n",
       "      <td>150.0</td>\n",
       "      <td>0</td>\n",
       "      <td>1</td>\n",
       "      <td>3.0</td>\n",
       "      <td>24.000000</td>\n",
       "      <td>0</td>\n",
       "    </tr>\n",
       "    <tr>\n",
       "      <th>1</th>\n",
       "      <td>1</td>\n",
       "      <td>16523_44</td>\n",
       "      <td>1</td>\n",
       "      <td>T_1</td>\n",
       "      <td>44.0</td>\n",
       "      <td>0</td>\n",
       "      <td>0</td>\n",
       "      <td>4.0</td>\n",
       "      <td>26.000000</td>\n",
       "      <td>1</td>\n",
       "    </tr>\n",
       "    <tr>\n",
       "      <th>2</th>\n",
       "      <td>2</td>\n",
       "      <td>13987_178</td>\n",
       "      <td>7</td>\n",
       "      <td>Z_2</td>\n",
       "      <td>178.0</td>\n",
       "      <td>1</td>\n",
       "      <td>0</td>\n",
       "      <td>1.0</td>\n",
       "      <td>40.000000</td>\n",
       "      <td>1</td>\n",
       "    </tr>\n",
       "    <tr>\n",
       "      <th>3</th>\n",
       "      <td>3</td>\n",
       "      <td>13158_32</td>\n",
       "      <td>1</td>\n",
       "      <td>T_2</td>\n",
       "      <td>32.0</td>\n",
       "      <td>0</td>\n",
       "      <td>0</td>\n",
       "      <td>3.0</td>\n",
       "      <td>36.246315</td>\n",
       "      <td>1</td>\n",
       "    </tr>\n",
       "    <tr>\n",
       "      <th>4</th>\n",
       "      <td>4</td>\n",
       "      <td>10591_84</td>\n",
       "      <td>3</td>\n",
       "      <td>V_3</td>\n",
       "      <td>84.0</td>\n",
       "      <td>0</td>\n",
       "      <td>1</td>\n",
       "      <td>1.0</td>\n",
       "      <td>42.000000</td>\n",
       "      <td>1</td>\n",
       "    </tr>\n",
       "    <tr>\n",
       "      <th>...</th>\n",
       "      <td>...</td>\n",
       "      <td>...</td>\n",
       "      <td>...</td>\n",
       "      <td>...</td>\n",
       "      <td>...</td>\n",
       "      <td>...</td>\n",
       "      <td>...</td>\n",
       "      <td>...</td>\n",
       "      <td>...</td>\n",
       "      <td>...</td>\n",
       "    </tr>\n",
       "    <tr>\n",
       "      <th>49993</th>\n",
       "      <td>49993</td>\n",
       "      <td>4379_115</td>\n",
       "      <td>6</td>\n",
       "      <td>Y_4</td>\n",
       "      <td>115.0</td>\n",
       "      <td>0</td>\n",
       "      <td>2</td>\n",
       "      <td>2.0</td>\n",
       "      <td>37.691137</td>\n",
       "      <td>1</td>\n",
       "    </tr>\n",
       "    <tr>\n",
       "      <th>49994</th>\n",
       "      <td>49994</td>\n",
       "      <td>3809_58</td>\n",
       "      <td>2</td>\n",
       "      <td>U_1</td>\n",
       "      <td>58.0</td>\n",
       "      <td>0</td>\n",
       "      <td>1</td>\n",
       "      <td>3.0</td>\n",
       "      <td>30.000000</td>\n",
       "      <td>1</td>\n",
       "    </tr>\n",
       "    <tr>\n",
       "      <th>49995</th>\n",
       "      <td>49995</td>\n",
       "      <td>18109_42</td>\n",
       "      <td>1</td>\n",
       "      <td>T_2</td>\n",
       "      <td>42.0</td>\n",
       "      <td>1</td>\n",
       "      <td>0</td>\n",
       "      <td>2.0</td>\n",
       "      <td>41.000000</td>\n",
       "      <td>1</td>\n",
       "    </tr>\n",
       "    <tr>\n",
       "      <th>49996</th>\n",
       "      <td>49996</td>\n",
       "      <td>6384_113</td>\n",
       "      <td>6</td>\n",
       "      <td>Y_4</td>\n",
       "      <td>113.0</td>\n",
       "      <td>0</td>\n",
       "      <td>1</td>\n",
       "      <td>3.0</td>\n",
       "      <td>39.420303</td>\n",
       "      <td>1</td>\n",
       "    </tr>\n",
       "    <tr>\n",
       "      <th>49997</th>\n",
       "      <td>49997</td>\n",
       "      <td>18598_111</td>\n",
       "      <td>5</td>\n",
       "      <td>X_1</td>\n",
       "      <td>111.0</td>\n",
       "      <td>0</td>\n",
       "      <td>2</td>\n",
       "      <td>2.0</td>\n",
       "      <td>29.000000</td>\n",
       "      <td>1</td>\n",
       "    </tr>\n",
       "  </tbody>\n",
       "</table>\n",
       "<p>47873 rows × 10 columns</p>\n",
       "</div>"
      ],
      "text/plain": [
       "       Unnamed: 0     id_num program_type program_id  test_id  test_type  \\\n",
       "0               0   9389_150            6        Y_1    150.0          0   \n",
       "1               1   16523_44            1        T_1     44.0          0   \n",
       "2               2  13987_178            7        Z_2    178.0          1   \n",
       "3               3   13158_32            1        T_2     32.0          0   \n",
       "4               4   10591_84            3        V_3     84.0          0   \n",
       "...           ...        ...          ...        ...      ...        ...   \n",
       "49993       49993   4379_115            6        Y_4    115.0          0   \n",
       "49994       49994    3809_58            2        U_1     58.0          0   \n",
       "49995       49995   18109_42            1        T_2     42.0          1   \n",
       "49996       49996   6384_113            6        Y_4    113.0          0   \n",
       "49997       49997  18598_111            5        X_1    111.0          0   \n",
       "\n",
       "       difficulty_level  city_tier        age  is_pass  \n",
       "0                     1        3.0  24.000000        0  \n",
       "1                     0        4.0  26.000000        1  \n",
       "2                     0        1.0  40.000000        1  \n",
       "3                     0        3.0  36.246315        1  \n",
       "4                     1        1.0  42.000000        1  \n",
       "...                 ...        ...        ...      ...  \n",
       "49993                 2        2.0  37.691137        1  \n",
       "49994                 1        3.0  30.000000        1  \n",
       "49995                 0        2.0  41.000000        1  \n",
       "49996                 1        3.0  39.420303        1  \n",
       "49997                 2        2.0  29.000000        1  \n",
       "\n",
       "[47873 rows x 10 columns]"
      ]
     },
     "execution_count": 23,
     "metadata": {},
     "output_type": "execute_result"
    },
    {
     "name": "stdout",
     "output_type": "stream",
     "text": [
      "Done!\n"
     ]
    }
   ],
   "source": [
    "ini_data\n",
    "\n",
    "ini_data.to_csv('waitfor_FE_end.csv',encoding='utf-8')\n",
    "\n",
    "\n",
    "print(\"Done!\")"
   ]
  },
  {
   "cell_type": "code",
   "execution_count": null,
   "metadata": {},
   "outputs": [],
   "source": []
  },
  {
   "cell_type": "code",
   "execution_count": null,
   "metadata": {},
   "outputs": [],
   "source": []
  },
  {
   "cell_type": "code",
   "execution_count": null,
   "metadata": {},
   "outputs": [],
   "source": []
  },
  {
   "cell_type": "code",
   "execution_count": null,
   "metadata": {},
   "outputs": [],
   "source": []
  }
 ],
 "metadata": {
  "kernelspec": {
   "display_name": "Python 3",
   "language": "python",
   "name": "python3"
  },
  "language_info": {
   "codemirror_mode": {
    "name": "ipython",
    "version": 3
   },
   "file_extension": ".py",
   "mimetype": "text/x-python",
   "name": "python",
   "nbconvert_exporter": "python",
   "pygments_lexer": "ipython3",
   "version": "3.8.5"
  }
 },
 "nbformat": 4,
 "nbformat_minor": 4
}
