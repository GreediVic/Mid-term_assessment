{
 "cells": [
  {
   "cell_type": "code",
   "execution_count": 1,
   "metadata": {},
   "outputs": [
    {
     "name": "stdout",
     "output_type": "stream",
     "text": [
      "<class 'pandas.core.frame.DataFrame'>\n",
      "Int64Index: 47873 entries, 0 to 47872\n",
      "Data columns (total 11 columns):\n",
      " #   Column            Non-Null Count  Dtype  \n",
      "---  ------            --------------  -----  \n",
      " 0   Unnamed: 0        47873 non-null  int64  \n",
      " 1   Unnamed: 0.1      47873 non-null  int64  \n",
      " 2   id_num            47873 non-null  object \n",
      " 3   program_type      47873 non-null  int64  \n",
      " 4   program_id        47873 non-null  object \n",
      " 5   test_id           47873 non-null  float64\n",
      " 6   test_type         47873 non-null  int64  \n",
      " 7   difficulty_level  47873 non-null  int64  \n",
      " 8   city_tier         47873 non-null  float64\n",
      " 9   age               47873 non-null  float64\n",
      " 10  is_pass           47873 non-null  int64  \n",
      "dtypes: float64(3), int64(6), object(2)\n",
      "memory usage: 4.4+ MB\n"
     ]
    },
    {
     "data": {
      "text/html": [
       "<div>\n",
       "<style scoped>\n",
       "    .dataframe tbody tr th:only-of-type {\n",
       "        vertical-align: middle;\n",
       "    }\n",
       "\n",
       "    .dataframe tbody tr th {\n",
       "        vertical-align: top;\n",
       "    }\n",
       "\n",
       "    .dataframe thead th {\n",
       "        text-align: right;\n",
       "    }\n",
       "</style>\n",
       "<table border=\"1\" class=\"dataframe\">\n",
       "  <thead>\n",
       "    <tr style=\"text-align: right;\">\n",
       "      <th></th>\n",
       "      <th>Unnamed: 0</th>\n",
       "      <th>Unnamed: 0.1</th>\n",
       "      <th>id_num</th>\n",
       "      <th>program_type</th>\n",
       "      <th>program_id</th>\n",
       "      <th>test_id</th>\n",
       "      <th>test_type</th>\n",
       "      <th>difficulty_level</th>\n",
       "      <th>city_tier</th>\n",
       "      <th>age</th>\n",
       "      <th>is_pass</th>\n",
       "    </tr>\n",
       "  </thead>\n",
       "  <tbody>\n",
       "    <tr>\n",
       "      <th>0</th>\n",
       "      <td>False</td>\n",
       "      <td>False</td>\n",
       "      <td>False</td>\n",
       "      <td>False</td>\n",
       "      <td>False</td>\n",
       "      <td>False</td>\n",
       "      <td>False</td>\n",
       "      <td>False</td>\n",
       "      <td>False</td>\n",
       "      <td>False</td>\n",
       "      <td>False</td>\n",
       "    </tr>\n",
       "    <tr>\n",
       "      <th>1</th>\n",
       "      <td>False</td>\n",
       "      <td>False</td>\n",
       "      <td>False</td>\n",
       "      <td>False</td>\n",
       "      <td>False</td>\n",
       "      <td>False</td>\n",
       "      <td>False</td>\n",
       "      <td>False</td>\n",
       "      <td>False</td>\n",
       "      <td>False</td>\n",
       "      <td>False</td>\n",
       "    </tr>\n",
       "    <tr>\n",
       "      <th>2</th>\n",
       "      <td>False</td>\n",
       "      <td>False</td>\n",
       "      <td>False</td>\n",
       "      <td>False</td>\n",
       "      <td>False</td>\n",
       "      <td>False</td>\n",
       "      <td>False</td>\n",
       "      <td>False</td>\n",
       "      <td>False</td>\n",
       "      <td>False</td>\n",
       "      <td>False</td>\n",
       "    </tr>\n",
       "    <tr>\n",
       "      <th>3</th>\n",
       "      <td>False</td>\n",
       "      <td>False</td>\n",
       "      <td>False</td>\n",
       "      <td>False</td>\n",
       "      <td>False</td>\n",
       "      <td>False</td>\n",
       "      <td>False</td>\n",
       "      <td>False</td>\n",
       "      <td>False</td>\n",
       "      <td>False</td>\n",
       "      <td>False</td>\n",
       "    </tr>\n",
       "    <tr>\n",
       "      <th>4</th>\n",
       "      <td>False</td>\n",
       "      <td>False</td>\n",
       "      <td>False</td>\n",
       "      <td>False</td>\n",
       "      <td>False</td>\n",
       "      <td>False</td>\n",
       "      <td>False</td>\n",
       "      <td>False</td>\n",
       "      <td>False</td>\n",
       "      <td>False</td>\n",
       "      <td>False</td>\n",
       "    </tr>\n",
       "    <tr>\n",
       "      <th>...</th>\n",
       "      <td>...</td>\n",
       "      <td>...</td>\n",
       "      <td>...</td>\n",
       "      <td>...</td>\n",
       "      <td>...</td>\n",
       "      <td>...</td>\n",
       "      <td>...</td>\n",
       "      <td>...</td>\n",
       "      <td>...</td>\n",
       "      <td>...</td>\n",
       "      <td>...</td>\n",
       "    </tr>\n",
       "    <tr>\n",
       "      <th>47868</th>\n",
       "      <td>False</td>\n",
       "      <td>False</td>\n",
       "      <td>False</td>\n",
       "      <td>False</td>\n",
       "      <td>False</td>\n",
       "      <td>False</td>\n",
       "      <td>False</td>\n",
       "      <td>False</td>\n",
       "      <td>False</td>\n",
       "      <td>False</td>\n",
       "      <td>False</td>\n",
       "    </tr>\n",
       "    <tr>\n",
       "      <th>47869</th>\n",
       "      <td>False</td>\n",
       "      <td>False</td>\n",
       "      <td>False</td>\n",
       "      <td>False</td>\n",
       "      <td>False</td>\n",
       "      <td>False</td>\n",
       "      <td>False</td>\n",
       "      <td>False</td>\n",
       "      <td>False</td>\n",
       "      <td>False</td>\n",
       "      <td>False</td>\n",
       "    </tr>\n",
       "    <tr>\n",
       "      <th>47870</th>\n",
       "      <td>False</td>\n",
       "      <td>False</td>\n",
       "      <td>False</td>\n",
       "      <td>False</td>\n",
       "      <td>False</td>\n",
       "      <td>False</td>\n",
       "      <td>False</td>\n",
       "      <td>False</td>\n",
       "      <td>False</td>\n",
       "      <td>False</td>\n",
       "      <td>False</td>\n",
       "    </tr>\n",
       "    <tr>\n",
       "      <th>47871</th>\n",
       "      <td>False</td>\n",
       "      <td>False</td>\n",
       "      <td>False</td>\n",
       "      <td>False</td>\n",
       "      <td>False</td>\n",
       "      <td>False</td>\n",
       "      <td>False</td>\n",
       "      <td>False</td>\n",
       "      <td>False</td>\n",
       "      <td>False</td>\n",
       "      <td>False</td>\n",
       "    </tr>\n",
       "    <tr>\n",
       "      <th>47872</th>\n",
       "      <td>False</td>\n",
       "      <td>False</td>\n",
       "      <td>False</td>\n",
       "      <td>False</td>\n",
       "      <td>False</td>\n",
       "      <td>False</td>\n",
       "      <td>False</td>\n",
       "      <td>False</td>\n",
       "      <td>False</td>\n",
       "      <td>False</td>\n",
       "      <td>False</td>\n",
       "    </tr>\n",
       "  </tbody>\n",
       "</table>\n",
       "<p>47873 rows × 11 columns</p>\n",
       "</div>"
      ],
      "text/plain": [
       "       Unnamed: 0  Unnamed: 0.1  id_num  program_type  program_id  test_id  \\\n",
       "0           False         False   False         False       False    False   \n",
       "1           False         False   False         False       False    False   \n",
       "2           False         False   False         False       False    False   \n",
       "3           False         False   False         False       False    False   \n",
       "4           False         False   False         False       False    False   \n",
       "...           ...           ...     ...           ...         ...      ...   \n",
       "47868       False         False   False         False       False    False   \n",
       "47869       False         False   False         False       False    False   \n",
       "47870       False         False   False         False       False    False   \n",
       "47871       False         False   False         False       False    False   \n",
       "47872       False         False   False         False       False    False   \n",
       "\n",
       "       test_type  difficulty_level  city_tier    age  is_pass  \n",
       "0          False             False      False  False    False  \n",
       "1          False             False      False  False    False  \n",
       "2          False             False      False  False    False  \n",
       "3          False             False      False  False    False  \n",
       "4          False             False      False  False    False  \n",
       "...          ...               ...        ...    ...      ...  \n",
       "47868      False             False      False  False    False  \n",
       "47869      False             False      False  False    False  \n",
       "47870      False             False      False  False    False  \n",
       "47871      False             False      False  False    False  \n",
       "47872      False             False      False  False    False  \n",
       "\n",
       "[47873 rows x 11 columns]"
      ]
     },
     "execution_count": 1,
     "metadata": {},
     "output_type": "execute_result"
    }
   ],
   "source": [
    "\"\"\"\n",
    "------------------\n",
    "这是第一次的特征工程，大多代码是模仿，\n",
    "甚至可以说拷贝许师兄的代码后修改的，\n",
    "能够掌握的是To_select_Feature文件中的\n",
    "以及\n",
    "------------------\n",
    "\"\"\"\n",
    "\n",
    "import re\n",
    "import pandas as pd\n",
    "import numpy as np\n",
    "import matplotlib.pyplot as plt\n",
    "\n",
    "from IPython.core.interactiveshell import InteractiveShell\n",
    "\n",
    "# import sklearn.metrics as metrics\n",
    "InteractiveShell.ast_node_interactivity = \"all\"\n",
    "\n",
    "%matplotlib inline\n",
    "\n",
    "\"\"\"\n",
    "    导入包后将数据集调出\n",
    "    并且查看基本信息\n",
    "\"\"\"\n",
    "ini_data = pd.read_csv(\"waitfor_FE_end.csv\")\n",
    "# ini_data.head(50)\n",
    "ini_data = ini_data.dropna()\n",
    "ini_data.info()\n",
    "ini_data.isnull()"
   ]
  },
  {
   "cell_type": "markdown",
   "metadata": {},
   "source": [
    "## 进行特征选取和预测"
   ]
  },
  {
   "cell_type": "markdown",
   "metadata": {},
   "source": [
    "### 1、线性回归尝试预测"
   ]
  },
  {
   "cell_type": "code",
   "execution_count": 2,
   "metadata": {},
   "outputs": [],
   "source": [
    "from sklearn.linear_model import LinearRegression\n",
    "# # sklearn线性回归的库，采用二分类进行分类预测\n",
    "# from sklearn.model_selection import KFold\n",
    "# K折交叉验证"
   ]
  },
  {
   "cell_type": "code",
   "execution_count": 3,
   "metadata": {},
   "outputs": [],
   "source": [
    "# # 这些是发现会影响正确率的特征\n",
    "\n",
    "# # 这些是没多大变化的指标 \n",
    "# \"program_type.1\",\"program_type.2\", \"program_type.3\", \"program_type.4\",\"program_type.5\", \"program_type.6\",\n",
    "\n",
    "# train_features = [ \"difficulty_level\", \"gender\", \"education\", \"city_tier\", \"age\",\n",
    "#                  \"is_handicapped\",\"program_type.1\",\"program_type.2\", \"program_type.3\", \"program_type.4\",\n",
    "#                  \"program_type.5\", \"program_type.6\",\"test_type\",\"total_programs_enrolled\"] \n",
    "# train_features = [ \"trainee_id\",\"id_num\",\"program_duration\",\"trainee_engagement_rating\",\"difficulty_level\",\n",
    "#                  \"gender\", \"education\", \"city_tier\", \"age\",\n",
    "#                 \"is_handicapped\",\"program_type.1\",\"program_type.2\", \"program_type.3\", \"program_type.4\",\n",
    "#                 \"program_type.5\", \"program_type.6\",\"test_type\",\"total_programs_enrolled\"] \n",
    "#\"program_type.1\",\"program_type.2\", \"program_type.3\", \"program_type.4\",\n",
    "#                  \"program_type.5\", \"program_type.6\","
   ]
  },
  {
   "cell_type": "code",
   "execution_count": 3,
   "metadata": {},
   "outputs": [
    {
     "data": {
      "text/plain": [
       "LinearRegression()"
      ]
     },
     "execution_count": 3,
     "metadata": {},
     "output_type": "execute_result"
    },
    {
     "data": {
      "text/plain": [
       "[array([0.60011999, 0.5441476 , 0.88910491, ..., 0.77372185, 0.65474631,\n",
       "        0.68348461])]"
      ]
     },
     "execution_count": 3,
     "metadata": {},
     "output_type": "execute_result"
    }
   ],
   "source": [
    "# 实例化线性回归类\n",
    "lr = LinearRegression()\n",
    "# 将特征选取,进行初次预测\n",
    "# train_features = [ \"trainee_engagement_rating\",\"difficulty_level\", \"gender\", \"education\", \"city_tier\", \"age\",\n",
    "#                  \"is_handicapped\",\"program_type.1\",\"program_type.2\", \"program_type.3\", \"program_type.4\",\n",
    "#                  \"program_type.5\", \"program_type.6\",\"test_type\"] \n",
    "# train_features = [ \"trainee_engagement_rating\",\"difficulty_level\", \"gender\", \"education\", \"city_tier\", \"age\",\n",
    "#                  \"is_handicapped\",\"test_type\"] \n",
    "# ini_data.loc[ini_data['program_type'] == 'S', \"program_type\"] = 0\n",
    "# ini_data.loc[ini_data['program_type'] == 'T', \"program_type\"] = 1\n",
    "# ini_data.loc[ini_data['program_type'] == 'U', \"program_type\"] = 2\n",
    "# ini_data.loc[ini_data['program_type'] == 'V', \"program_type\"] = 3\n",
    "# ini_data.loc[ini_data['program_type'] == 'W', \"program_type\"] = 4\n",
    "# ini_data.loc[ini_data['program_type'] == 'X', \"program_type\"] = 5\n",
    "# ini_data.loc[ini_data['program_type'] == 'Y', \"program_type\"] = 6\n",
    "# ini_data.loc[ini_data['program_type'] == 'Z', \"program_type\"] = 7\n",
    "\n",
    "\n",
    "train_features = [\"id_num\", \"difficulty_level\", \"age\",\"city_tier\",\"program_type\", \n",
    "                  \"test_type\"] \n",
    "# # 实例化k折模型\n",
    "# k = KFold(n_splits=10, shuffle=True, random_state=1) \n",
    "# for i,j in k.split(ini_data):#设置10折，便会循环10次\n",
    "#     print(i,j)\n",
    "# 准备记录训练过程\n",
    "save_predics = []\n",
    "save_models = []\n",
    "train_x = (ini_data[train_features].iloc[:]) # 模型复制\n",
    "train_y = ini_data['is_pass'].iloc[:]\n",
    "lr.fit(train_x,train_y) #  对数据进行训练\n",
    "test_predics = lr.predict(ini_data[train_features].iloc[:]) #  获取预测结果\n",
    "save_predics.append(test_predics) #  存放预测结果\n",
    "save_predics\n",
    "\n",
    "# for train_index,var_index in k.split(ini_data):  \n",
    "#     \"\"\"\n",
    "#     使用KFold产生训练集和测试集，以索引返回。\n",
    "#     kf = KFold(n_splits=10, shuffle=True, random_state=1)\n",
    "#     1、首先将特征复制（取出每行所有特征作为一个样本）\n",
    "#     2、复制该样本对应的目标值\n",
    "#     3、投入训练\n",
    "#     4、将每一行的所选特征以下的内容投进预测\n",
    "#     \"\"\"\n",
    "#     train_x = (ini_data[train_features].iloc[train_index,:]) # 模型复制\n",
    "#     train_y = ini_data['is_pass'].iloc[train_index]\n",
    "#     lr.fit(train_x,train_y) #  对数据进行训练\n",
    "#     test_predics = lr.predict(ini_data[train_features].iloc[var_index,:]) #  获取预测结果\n",
    "#     save_predics.append(test_predics) #  存放预测结果\n",
    "    \n",
    "# #   save_models.append(lr) #  把模型添加进去"
   ]
  },
  {
   "cell_type": "code",
   "execution_count": 5,
   "metadata": {},
   "outputs": [],
   "source": [
    "# print(np.array(save_predics))"
   ]
  },
  {
   "cell_type": "code",
   "execution_count": 4,
   "metadata": {},
   "outputs": [
    {
     "data": {
      "text/plain": [
       "array([0.60011999, 0.5441476 , 0.88910491, ..., 0.77372185, 0.65474631,\n",
       "       0.68348461])"
      ]
     },
     "execution_count": 4,
     "metadata": {},
     "output_type": "execute_result"
    },
    {
     "data": {
      "text/plain": [
       "(47873,)"
      ]
     },
     "execution_count": 4,
     "metadata": {},
     "output_type": "execute_result"
    }
   ],
   "source": [
    "# pre = [] \n",
    "# for index in predicts:\n",
    "#     for x,i in enumerate(index):\n",
    "#         if i >= 0.5:\n",
    "#             index[x] = int(1)\n",
    "#         else:\n",
    "#             index[x] = (0)\n",
    "#         pre.append(i)\n",
    "predicts = np.concatenate(save_predics, axis=0)\n",
    "# # a = 0\n",
    "predicts\n",
    "predicts[(predicts >= 0.5)] = 1\n",
    "predicts[(predicts < 0.5)] = 0\n",
    "predicts.shape\n",
    "\n",
    "# for i in predicts:\n",
    "#     if i>= 0.5:\n",
    "#         a += 1\n",
    "# print(a)\n",
    "# a = 0\n",
    "# for x,i in enumerate(ini_data['is_pass']):\n",
    "#     if i ==predicts[x] :\n",
    "#         a += 1\n",
    "# print(a)"
   ]
  },
  {
   "cell_type": "code",
   "execution_count": 9,
   "metadata": {},
   "outputs": [
    {
     "name": "stdout",
     "output_type": "stream",
     "text": [
      "总识别: 47873\n",
      "判断正确的数量： 33387\n",
      "准确率:69.74077246046832%\n",
      "混淆矩阵：\n",
      " [[   67 14435]\n",
      " [   51 33320]]\n",
      "召回率： 0.9984717269485481\n"
     ]
    }
   ],
   "source": [
    "print(\"总识别:\", len(predicts))\n",
    "print(\"判断正确的数量：\", int(sum(predicts == ini_data['is_pass'])))\n",
    "accuracy = int(sum(predicts == ini_data['is_pass']))/len(predicts)\n",
    "print(f\"准确率:{100*accuracy}%\")\n",
    "# hinger = hinger_loss(ini_data['is_pass'],pre)\n",
    "# hinger\n",
    "# Mat = metrics.confusion_matrix(ini_data['is_pass'], pre)\n",
    "# print(Mat)\n",
    "from sklearn.metrics import confusion_matrix\n",
    "from sklearn.metrics import recall_score\n",
    "# 利用混淆矩阵评估效果\n",
    "C=confusion_matrix(ini_data['is_pass'], predicts)\n",
    "print(\"混淆矩阵：\\n\",C)\n",
    "c = recall_score(ini_data['is_pass'], predicts)\n",
    "print(\"召回率：\", c)"
   ]
  },
  {
   "cell_type": "code",
   "execution_count": 8,
   "metadata": {},
   "outputs": [],
   "source": [
    "# df = pd.read_csv('test1.csv')\n",
    "# df.info()"
   ]
  },
  {
   "cell_type": "code",
   "execution_count": null,
   "metadata": {},
   "outputs": [],
   "source": []
  },
  {
   "cell_type": "markdown",
   "metadata": {},
   "source": [
    "### 2、逻辑回归尝试预测"
   ]
  },
  {
   "cell_type": "code",
   "execution_count": 9,
   "metadata": {},
   "outputs": [],
   "source": [
    "from sklearn import model_selection\n",
    "from sklearn.linear_model import LogisticRegression"
   ]
  },
  {
   "cell_type": "code",
   "execution_count": 10,
   "metadata": {},
   "outputs": [
    {
     "name": "stdout",
     "output_type": "stream",
     "text": [
      "准确率为： 0.6970735067228775\n"
     ]
    }
   ],
   "source": [
    "# # train_features = [ \"trainee_engagement_rating\",\"difficulty_level\", \"gender\", \"education\", \"city_tier\", \"age\",\n",
    "# #                  \"is_handicapped\",\"program_type.1\",\"program_type.2\", \"program_type.3\", \"program_type.4\",\n",
    "# #                  \"program_type.5\", \"program_type.6\",\"test_type\"] \n",
    "# #\"total_programs_enrolled\"\n",
    "# # 初始化逻辑回归类\n",
    "# lor = LogisticRegression(random_state=1, solver='liblinear',C=0.3)\n",
    "# # 逻辑回归交叉验证\n",
    "# score = model_selection.cross_val_score(lor, ini_data[train_features], ini_data[\"is_pass\"], cv=3)\n",
    "# print(\"准确率为：\", score.mean())"
   ]
  },
  {
   "cell_type": "markdown",
   "metadata": {},
   "source": [
    "## 特征选择"
   ]
  },
  {
   "cell_type": "code",
   "execution_count": 1,
   "metadata": {
    "scrolled": false
   },
   "outputs": [],
   "source": [
    "# from sklearn.feature_selection import SelectKBest, f_classif # 特征选择库\n",
    "# import matplotlib.pyplot as plt # 画出直方图，分析特征的权重\n",
    "# from sklearn.ensemble import RandomForestClassifier\n",
    "# from sklearn.datasets import make_classification\n",
    "# # f_classif：基于方差分析的检验统计f值，根据k个最高分数选择功能\n",
    "\n",
    "# train_features = [ \"difficulty_level\", \"gender\", \"education\", \"city_tier\", \"age\",\n",
    "#                  \"is_handicapped\",\"test_type\",\"total_programs_enrolled\",\"program_type\"，\n",
    "#                   \"total_programs_enrolled\",\"program_duration\"] \n",
    "# selector = SelectKBest(f_classif, k=4)\n",
    "# selector.fit(ini_data[train_features], ini_data[\"is_pass\"])\n",
    "# scores = -np.log10(selector.pvalues_)\n",
    "\n",
    "# plt.bar(range(len(train_features)), scores)\n",
    "# plt.xticks(range(len(train_features)), train_features, rotation='vertical')\n",
    "# plt.show()\n",
    "\n",
    "# # train_features = [\"trainee_engagement_rating\",\"difficulty_level\",\"gender\", \n",
    "# #                 \"education\", \"city_tier\", \"age\",\"is_handicapped\",\"test_type\",\"total_programs_enrolled\"]\n",
    "\n",
    "# # train_features = [\"program_type\",\"id_num\",\"difficulty_level\", \"city_tier\", \"age\",\"test_type\"]\n",
    "\n",
    "# # rfc = RandomForestClassifier(random_state=1, n_estimators=550, min_samples_split=8, min_samples_leaf=4)\n",
    "# # kf = model_selection.KFold(n_splits=3, random_state=1,shuffle=True)\n",
    "# # scores = model_selection.cross_val_score(rfc, ini_data[train_features], ini_data[\"is_pass\"], cv=kf)\n",
    "# # print(\"随机森林模型的准确率：\" + str(scores.mean()))"
   ]
  },
  {
   "cell_type": "code",
   "execution_count": 56,
   "metadata": {},
   "outputs": [],
   "source": [
    "# train_features = [ \"trainee_id\",\"id_num\",\"program_duration\",\"trainee_engagement_rating\",\"difficulty_level\",\n",
    "#                  \"gender\", \"education\", \"city_tier\", \"age\",\n",
    "#                 \"is_handicapped\",\"program_type.1\",\"program_type.2\", \"program_type.3\", \"program_type.4\",\n",
    "#                 \"program_type.5\", \"program_type.6\",\"test_type\",\"total_programs_enrolled\"] "
   ]
  },
  {
   "cell_type": "code",
   "execution_count": 59,
   "metadata": {},
   "outputs": [
    {
     "data": {
      "text/plain": [
       "GradientBoostingClassifier(max_depth=6, n_estimators=50, random_state=1)"
      ]
     },
     "execution_count": 59,
     "metadata": {},
     "output_type": "execute_result"
    },
    {
     "data": {
      "text/plain": [
       "LogisticRegression(random_state=1, solver='liblinear')"
      ]
     },
     "execution_count": 59,
     "metadata": {},
     "output_type": "execute_result"
    },
    {
     "data": {
      "text/plain": [
       "GradientBoostingClassifier(max_depth=6, n_estimators=50, random_state=1)"
      ]
     },
     "execution_count": 59,
     "metadata": {},
     "output_type": "execute_result"
    },
    {
     "data": {
      "text/plain": [
       "LogisticRegression(random_state=1, solver='liblinear')"
      ]
     },
     "execution_count": 59,
     "metadata": {},
     "output_type": "execute_result"
    },
    {
     "data": {
      "text/plain": [
       "GradientBoostingClassifier(max_depth=6, n_estimators=50, random_state=1)"
      ]
     },
     "execution_count": 59,
     "metadata": {},
     "output_type": "execute_result"
    },
    {
     "data": {
      "text/plain": [
       "LogisticRegression(random_state=1, solver='liblinear')"
      ]
     },
     "execution_count": 59,
     "metadata": {},
     "output_type": "execute_result"
    },
    {
     "data": {
      "text/plain": [
       "GradientBoostingClassifier(max_depth=6, n_estimators=50, random_state=1)"
      ]
     },
     "execution_count": 59,
     "metadata": {},
     "output_type": "execute_result"
    },
    {
     "data": {
      "text/plain": [
       "LogisticRegression(random_state=1, solver='liblinear')"
      ]
     },
     "execution_count": 59,
     "metadata": {},
     "output_type": "execute_result"
    },
    {
     "name": "stdout",
     "output_type": "stream",
     "text": [
      "0.6879855575163797\n"
     ]
    }
   ],
   "source": [
    "# from sklearn.ensemble import GradientBoostingClassifier\n",
    "# import numpy as np\n",
    "\n",
    "# # algorithms = [\n",
    "# #     [GradientBoostingClassifier(random_state=1, n_estimators=50, max_depth=6),\n",
    "# #      [\"trainee_id\",\"id_num\",\"program_duration\",\"trainee_engagement_rating\",\"difficulty_level\",\"gender\", \n",
    "# #                 \"education\", \"city_tier\", \"age\",\"is_handicapped\",\"program_type.1\",\"program_type.2\", \"program_type.3\", \n",
    "# #                 \"program_type.4\",\"program_type.5\", \"program_type.6\",\"test_type\",\"total_programs_enrolled\"]],\n",
    "# #     [LogisticRegression(random_state=1, solver='liblinear'), \n",
    "# #      [\"trainee_id\",\"id_num\",\"program_duration\",\"trainee_engagement_rating\",\"difficulty_level\",\"gender\", \n",
    "# #                 \"education\", \"city_tier\", \"age\",\"is_handicapped\",\"program_type.1\",\"program_type.2\", \"program_type.3\", \n",
    "# #                 \"program_type.4\",\"program_type.5\", \"program_type.6\",\"test_type\",\"total_programs_enrolled\"]]\n",
    "# # ]\n",
    "# algorithms = [\n",
    "#     [GradientBoostingClassifier(random_state=1, n_estimators=50, max_depth=6),\n",
    "#      [\"difficulty_level\", \"is_handicapped\",\"age\",\"program_type\",\n",
    "#                  \"test_type\"]],\n",
    "#     [LogisticRegression(random_state=1, solver='liblinear'), \n",
    "#      [\"difficulty_level\",\"is_handicapped\",\"age\",\"program_type\",\n",
    "#                  \"test_type\"]]\n",
    "# ]\n",
    "# kf = KFold(n_splits=4, random_state=1, shuffle=True)\n",
    "# predictions = []\n",
    "\n",
    "# for train, test in kf.split(ini_data):\n",
    "#     train_target = ini_data[\"is_pass\"].iloc[train]\n",
    "#     full_test_predictions = []\n",
    "\n",
    "#     for alg, predictors in algorithms:\n",
    "#         alg.fit(ini_data[predictors].iloc[train,:], train_target)\n",
    "#         test_predictions = alg.predict_proba(ini_data[predictors].iloc[test,:].astype(float))[:,1]\n",
    "#         full_test_predictions.append(test_predictions)\n",
    "\n",
    "#     test_predictions = (full_test_predictions[0] + full_test_predictions[1]) / 2\n",
    "\n",
    "#     test_predictions[test_predictions <= 0.5] = 0\n",
    "#     test_predictions[test_predictions > 0.5] = 1\n",
    "#     predictions.append(test_predictions)\n",
    "\n",
    "# predictions = np.concatenate(predictions, axis=0)\n",
    "\n",
    "# accuracy = sum(predictions == ini_data[\"is_pass\"]) / len(predictions)\n",
    "# print(accuracy)"
   ]
  }
 ],
 "metadata": {
  "kernelspec": {
   "display_name": "Python 3",
   "language": "python",
   "name": "python3"
  },
  "language_info": {
   "codemirror_mode": {
    "name": "ipython",
    "version": 3
   },
   "file_extension": ".py",
   "mimetype": "text/x-python",
   "name": "python",
   "nbconvert_exporter": "python",
   "pygments_lexer": "ipython3",
   "version": "3.8.5"
  }
 },
 "nbformat": 4,
 "nbformat_minor": 4
}
